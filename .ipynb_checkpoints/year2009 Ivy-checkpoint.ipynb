{
 "cells": [
  {
   "cell_type": "code",
   "execution_count": 1,
   "metadata": {
    "collapsed": true
   },
   "outputs": [],
   "source": [
    "import requests\n",
    "import json\n",
    "import re\n",
    "import numpy as np\n",
    "import pandas as pd\n",
    "\n",
    "sex = \"Men \"\n",
    "course = \"Yard \""
   ]
  },
  {
   "cell_type": "code",
   "execution_count": 2,
   "metadata": {
    "collapsed": true
   },
   "outputs": [],
   "source": [
    "def separate_events(year):\n",
    "    new_list = []\n",
    "    for event in year:\n",
    "        if \"Time Trial\" not in event:\n",
    "            if \"Relay\" not in event:\n",
    "                if \"Swim-off\" not in event:\n",
    "                    if \"Points\" in event:\n",
    "                        event = event.replace(\"\\\\\\n\", \"\\n \")\n",
    "                        new_list.append(event)\n",
    "    return new_list\n"
   ]
  },
  {
   "cell_type": "code",
   "execution_count": 3,
   "metadata": {
    "collapsed": false
   },
   "outputs": [
    {
     "data": {
      "text/plain": [
       "'3 Men 200 Yard IM========================================================================= \\n Meet Record: M 1:44.67 2007 Geoff Rathgeber (Harvard) \\n EISL/Ivy Rec: E 1:44.67 2007 Geoff Rathgeber (Harvard) \\n POOL: P 1:44.67 2007 Geoff Rathgeber (Harvard) \\n NCAA A: A 1:44.13 \\n NCAA B: B 1:47.77 \\n Name Year School Prelims Finals Points \\n ========================================================================= \\n === A - Final === \\n 1 Schaffer, Will SR Princeton 1:47.77 1:46.44B 32 \\n 22.71 49.55 (26.84) \\n 1:20.35 (30.80) 1:46.44 (26.09) \\n 2 Hartmann, Jonathan JR Princeton 1:47.57 1:46.93B 28 \\n 23.15 50.49 (27.34) \\n 1:22.76 (32.27) 1:46.93 (24.17) \\n 3 McHugh, Brendan FR Pennsylvania 1:47.61 1:47.64B 27 \\n 23.79 50.56 (26.77) \\n 1:21.76 (31.20) 1:47.64 (25.88) \\n 4 Pagan, Darren JR Columbia 1:48.24 1:47.71B 26 \\n 23.92 51.64 (27.72) \\n 1:22.43 (30.79) 1:47.71 (25.28) \\n 5 Quemena, Christopher JR Princeton 1:48.34 1:47.79 25 \\n 23.29 50.69 (27.40) \\n 1:21.93 (31.24) 1:47.79 (25.86) \\n 6 Christensen, Jonathan FR Princeton 1:48.94 1:48.23 24 \\n 23.89 51.46 (27.57) \\n 1:22.10 (30.64) 1:48.23 (26.13) \\n 7 Campbell, Nick JR Cornell 1:48.96 1:48.39 23 \\n 23.01 50.92 (27.91) \\n 1:22.52 (31.60) 1:48.39 (25.87) \\n 8 Yntema, Douwe SO Harvard 1:48.27 1:50.07 22 \\n 23.45 51.20 (27.75) \\n 1:23.38 (32.18) 1:50.07 (26.69) \\n === B - Final === \\n 9 Newell, Rob FR Harvard 1:48.97 1:49.04 20 \\n 23.90 50.90 (27.00) \\n 1:22.18 (31.28) 1:49.04 (26.86) \\n 10 Ebersole, Bern SR Princeton 1:49.57 1:49.11 17 \\n 23.79 52.06 (28.27) \\n 1:23.23 (31.17) 1:49.11 (25.88) \\n 11 Keady, Christopher SO Cornell 1:50.05 1:49.68 16 \\n 23.59 51.32 (27.73) \\n 1:23.69 (32.37) 1:49.68 (25.99) \\n 12 Alexander, Rich SR Brown 1:50.02 1:50.43 15 \\n 23.51 50.66 (27.15) \\n 1:23.85 (33.19) 1:50.43 (26.58)\\n \\n 3/5/09 7:19 PMMeet ResultsPage 2 of 3http://www.collegeswimming.us/results/princeton/ \\n 13 Parent, Tim SR Harvard 1:50.67 1:50.70 14 \\n 24.91 53.15 (28.24) \\n 1:25.12 (31.97) 1:50.70 (25.58) \\n 14 Shilton, Robbie FR Pennsylvania 1:50.80 1:50.80 13 \\n 24.61 53.31 (28.70) \\n 1:24.82 (31.51) 1:50.80 (25.98) \\n 15 Kikuchi, Ryan SO Brown 1:50.74 1:51.01 12 \\n 24.24 52.01 (27.77) \\n 1:24.95 (32.94) 1:51.01 (26.06) \\n 16 Davidson, Justin SO Harvard 1:50.91 1:52.28 11 \\n 23.66 52.26 (28.60) \\n 1:24.02 (31.76) 1:52.28 (28.26) \\n === C - Final === \\n 17 Cai, Michael FR Cornell 1:51.71 1:49.79 9 \\n 23.99 52.56 (28.57) \\n 1:23.70 (31.14) 1:49.79 (26.09) \\n 18 Chen, Easton SR Princeton 1:51.02 1:50.90 7 \\n 24.41 53.82 (29.41) \\n 1:24.48 (30.66) 1:50.90 (26.42) \\n 19 Mironov, Anthony JR Cornell 1:51.11 1:51.18 6 \\n 24.46 53.02 (28.56) \\n 1:24.88 (31.86) 1:51.18 (26.30) \\n 20 Jones, Dan SR Harvard 1:51.01 1:51.21 5 \\n 24.21 52.55 (28.34) \\n 1:24.67 (32.12) 1:51.21 (26.54) \\n 21 Carlucci, Conor SO Brown 1:51.55 1:51.58 4 \\n 23.29 52.46 (29.17) \\n 1:24.32 (31.86) 1:51.58 (27.26) \\n 22 Chui, Derick SO Harvard 1:52.07 1:51.69 3 \\n 24.33 52.28 (27.95) \\n 1:25.54 (33.26) 1:51.69 (26.15) \\n 23 McCarthy, Colin JR Yale 1:52.32 1:52.05 2 \\n 23.55 50.99 (27.44) \\n 1:24.67 (33.68) 1:52.05 (27.38) \\n 24 Ballentine, Andrew SR Dartmouth 1:52.37 1:52.86 1 \\n 25.08 54.49 (29.41) \\n 1:26.53 (32.04) 1:52.86 (26.33) \\n === Preliminaries === \\n 25 Choi, Lugar SO Yale 1:52.37 J \\n 24.34 53.90 (29.56) \\n 1:26.18 (32.28) 1:52.37 (26.19) \\n 26 Glassman, Zach SR Columbia 1:52.51 \\n 25.02 53.98 (28.96) \\n 1:25.53 (31.55) 1:52.51 (26.98) \\n 27 Steen, Craig JR Yale 1:52.64 \\n 24.26 52.92 (28.66) \\n 1:25.21 (32.29) 1:52.64 (27.43) \\n 28 Tang, Eric JR Columbia 1:53.15 \\n 24.86 54.28 (29.42) \\n 1:26.13 (31.85) 1:53.15 (27.02) \\n 29 Stumpf, Matt FR Dartmouth 1:53.30 \\n 24.04 53.19 (29.15) \\n 1:25.66 (32.47) 1:53.30 (27.64)\\n \\n 3/5/09 7:19 PMMeet ResultsPage 3 of 3http://www.collegeswimming.us/results/princeton/ \\n 30 Melillo, Simone JR Harvard 1:53.69 \\n 24.24 54.48 (30.24) \\n 1:26.06 (31.58) 1:53.69 (27.63) \\n 31 Grant, Ray JR Brown 1:53.82 \\n 24.29 54.61 (30.32) \\n 1:26.33 (31.72) 1:53.82 (27.49) \\n 32 Chu, Marco SO Dartmouth 1:53.86 \\n 23.76 53.39 (29.63) \\n 1:27.04 (33.65) 1:53.86 (26.82) \\n 33 Sidman, John-Howard FR Columbia 1:54.10 \\n 24.55 55.07 (30.52) \\n 1:26.98 (31.91) 1:54.10 (27.12) \\n 34 Gayton, John FR Brown 1:54.51 \\n 24.30 52.73 (28.43) \\n 1:27.21 (34.48) 1:54.51 (27.30) \\n 35 Shinton, Scott FR Yale 1:54.54 \\n 23.78 53.00 (29.22) \\n 1:27.18 (34.18) 1:54.54 (27.36) \\n 36 Tiano, Chris JR Columbia 1:55.02 \\n 24.79 54.17 (29.38) \\n 1:27.12 (32.95) 1:55.02 (27.90) \\n 37 Buck, Patrick SO Pennsylvania 1:55.14 \\n 24.44 53.18 (28.74) \\n 1:27.71 (34.53) 1:55.14 (27.43) \\n 38 Krey, Matt FR Pennsylvania 1:55.60 \\n 24.15 51.75 (27.60) \\n 1:27.42 (35.67) 1:55.60 (28.18) \\n 39 Koppel, Chris SR Dartmouth 1:56.08 \\n 24.67 54.72 (30.05) \\n 1:28.90 (34.18) 1:56.08 (27.18) \\n 40 Sweitzer, Matt SR Yale 1:56.77 \\n 24.68 55.89 (31.21) \\n 1:28.06 (32.17) 1:56.77 (28.71) \\n 41 McCrae, Brett SR Brown 1:58.61 \\n 25.96 56.95 (30.99) \\n 1:29.58 (32.63) 1:58.61 (29.03) \\n 42 Ritter, Jacob FR Dartmouth 2:04.95 \\n 26.81 59.12 (32.31) \\n 1:35.06 (35.94) 2:04.95 (29.89) \\n Men - Team Rankings - Through '"
      ]
     },
     "execution_count": 3,
     "metadata": {},
     "output_type": "execute_result"
    }
   ],
   "source": [
    "with open('yr2009.rtf', 'r') as myfile:\n",
    "    yr2009 = myfile.read()\n",
    "    yr2009 = yr2009.split(\"Event \")\n",
    "    \n",
    "yr = separate_events(yr2009)\n",
    "yr[1]"
   ]
  },
  {
   "cell_type": "code",
   "execution_count": 4,
   "metadata": {
    "collapsed": false,
    "scrolled": false
   },
   "outputs": [
    {
     "data": {
      "text/plain": [
       "[' ',\n",
       " ' ========================================================================= ',\n",
       " ' === A - Final === ',\n",
       " ' 1 Schaffer, Will SR Princeton 1:47.77 1:46.44B 32 ',\n",
       " ' 22.71 49.55 (26.84) ',\n",
       " ' 1:20.35 (30.80) 1:46.44 (26.09) ',\n",
       " ' 2 Hartmann, Jonathan JR Princeton 1:47.57 1:46.93B 28 ',\n",
       " ' 23.15 50.49 (27.34) ',\n",
       " ' 1:22.76 (32.27) 1:46.93 (24.17) ',\n",
       " ' 3 McHugh, Brendan FR Pennsylvania 1:47.61 1:47.64B 27 ',\n",
       " ' 23.79 50.56 (26.77) ',\n",
       " ' 1:21.76 (31.20) 1:47.64 (25.88) ',\n",
       " ' 4 Pagan, Darren JR Columbia 1:48.24 1:47.71B 26 ',\n",
       " ' 23.92 51.64 (27.72) ',\n",
       " ' 1:22.43 (30.79) 1:47.71 (25.28) ',\n",
       " ' 5 Quemena, Christopher JR Princeton 1:48.34 1:47.79 25 ',\n",
       " ' 23.29 50.69 (27.40) ',\n",
       " ' 1:21.93 (31.24) 1:47.79 (25.86) ',\n",
       " ' 6 Christensen, Jonathan FR Princeton 1:48.94 1:48.23 24 ',\n",
       " ' 23.89 51.46 (27.57) ',\n",
       " ' 1:22.10 (30.64) 1:48.23 (26.13) ',\n",
       " ' 7 Campbell, Nick JR Cornell 1:48.96 1:48.39 23 ',\n",
       " ' 23.01 50.92 (27.91) ',\n",
       " ' 1:22.52 (31.60) 1:48.39 (25.87) ',\n",
       " ' 8 Yntema, Douwe SO Harvard 1:48.27 1:50.07 22 ',\n",
       " ' 23.45 51.20 (27.75) ',\n",
       " ' 1:23.38 (32.18) 1:50.07 (26.69) ',\n",
       " ' === B - Final === ',\n",
       " ' 9 Newell, Rob FR Harvard 1:48.97 1:49.04 20 ',\n",
       " ' 23.90 50.90 (27.00) ',\n",
       " ' 1:22.18 (31.28) 1:49.04 (26.86) ',\n",
       " ' 10 Ebersole, Bern SR Princeton 1:49.57 1:49.11 17 ',\n",
       " ' 23.79 52.06 (28.27) ',\n",
       " ' 1:23.23 (31.17) 1:49.11 (25.88) ',\n",
       " ' 11 Keady, Christopher SO Cornell 1:50.05 1:49.68 16 ',\n",
       " ' 23.59 51.32 (27.73) ',\n",
       " ' 1:23.69 (32.37) 1:49.68 (25.99) ',\n",
       " ' 12 Alexander, Rich SR Brown 1:50.02 1:50.43 15 ',\n",
       " ' 23.51 50.66 (27.15) ',\n",
       " ' 1:23.85 (33.19) 1:50.43 (26.58)',\n",
       " ' ',\n",
       " ' 3/5/09 7:19 PMMeet ResultsPage 2 of 3http://www.collegeswimming.us/results/princeton/ ',\n",
       " ' 13 Parent, Tim SR Harvard 1:50.67 1:50.70 14 ',\n",
       " ' 24.91 53.15 (28.24) ',\n",
       " ' 1:25.12 (31.97) 1:50.70 (25.58) ',\n",
       " ' 14 Shilton, Robbie FR Pennsylvania 1:50.80 1:50.80 13 ',\n",
       " ' 24.61 53.31 (28.70) ',\n",
       " ' 1:24.82 (31.51) 1:50.80 (25.98) ',\n",
       " ' 15 Kikuchi, Ryan SO Brown 1:50.74 1:51.01 12 ',\n",
       " ' 24.24 52.01 (27.77) ',\n",
       " ' 1:24.95 (32.94) 1:51.01 (26.06) ',\n",
       " ' 16 Davidson, Justin SO Harvard 1:50.91 1:52.28 11 ',\n",
       " ' 23.66 52.26 (28.60) ',\n",
       " ' 1:24.02 (31.76) 1:52.28 (28.26) ',\n",
       " ' === C - Final === ',\n",
       " ' 17 Cai, Michael FR Cornell 1:51.71 1:49.79 9 ',\n",
       " ' 23.99 52.56 (28.57) ',\n",
       " ' 1:23.70 (31.14) 1:49.79 (26.09) ',\n",
       " ' 18 Chen, Easton SR Princeton 1:51.02 1:50.90 7 ',\n",
       " ' 24.41 53.82 (29.41) ',\n",
       " ' 1:24.48 (30.66) 1:50.90 (26.42) ',\n",
       " ' 19 Mironov, Anthony JR Cornell 1:51.11 1:51.18 6 ',\n",
       " ' 24.46 53.02 (28.56) ',\n",
       " ' 1:24.88 (31.86) 1:51.18 (26.30) ',\n",
       " ' 20 Jones, Dan SR Harvard 1:51.01 1:51.21 5 ',\n",
       " ' 24.21 52.55 (28.34) ',\n",
       " ' 1:24.67 (32.12) 1:51.21 (26.54) ',\n",
       " ' 21 Carlucci, Conor SO Brown 1:51.55 1:51.58 4 ',\n",
       " ' 23.29 52.46 (29.17) ',\n",
       " ' 1:24.32 (31.86) 1:51.58 (27.26) ',\n",
       " ' 22 Chui, Derick SO Harvard 1:52.07 1:51.69 3 ',\n",
       " ' 24.33 52.28 (27.95) ',\n",
       " ' 1:25.54 (33.26) 1:51.69 (26.15) ',\n",
       " ' 23 McCarthy, Colin JR Yale 1:52.32 1:52.05 2 ',\n",
       " ' 23.55 50.99 (27.44) ',\n",
       " ' 1:24.67 (33.68) 1:52.05 (27.38) ',\n",
       " ' 24 Ballentine, Andrew SR Dartmouth 1:52.37 1:52.86 1 ',\n",
       " ' 25.08 54.49 (29.41) ',\n",
       " ' 1:26.53 (32.04) 1:52.86 (26.33) ',\n",
       " ' === Preliminaries === ',\n",
       " ' 25 Choi, Lugar SO Yale 1:52.37 J ',\n",
       " ' 24.34 53.90 (29.56) ',\n",
       " ' 1:26.18 (32.28) 1:52.37 (26.19) ',\n",
       " ' 26 Glassman, Zach SR Columbia 1:52.51 ',\n",
       " ' 25.02 53.98 (28.96) ',\n",
       " ' 1:25.53 (31.55) 1:52.51 (26.98) ',\n",
       " ' 27 Steen, Craig JR Yale 1:52.64 ',\n",
       " ' 24.26 52.92 (28.66) ',\n",
       " ' 1:25.21 (32.29) 1:52.64 (27.43) ',\n",
       " ' 28 Tang, Eric JR Columbia 1:53.15 ',\n",
       " ' 24.86 54.28 (29.42) ',\n",
       " ' 1:26.13 (31.85) 1:53.15 (27.02) ',\n",
       " ' 29 Stumpf, Matt FR Dartmouth 1:53.30 ',\n",
       " ' 24.04 53.19 (29.15) ',\n",
       " ' 1:25.66 (32.47) 1:53.30 (27.64)',\n",
       " ' ',\n",
       " ' 3/5/09 7:19 PMMeet ResultsPage 3 of 3http://www.collegeswimming.us/results/princeton/ ',\n",
       " ' 30 Melillo, Simone JR Harvard 1:53.69 ',\n",
       " ' 24.24 54.48 (30.24) ',\n",
       " ' 1:26.06 (31.58) 1:53.69 (27.63) ',\n",
       " ' 31 Grant, Ray JR Brown 1:53.82 ',\n",
       " ' 24.29 54.61 (30.32) ',\n",
       " ' 1:26.33 (31.72) 1:53.82 (27.49) ',\n",
       " ' 32 Chu, Marco SO Dartmouth 1:53.86 ',\n",
       " ' 23.76 53.39 (29.63) ',\n",
       " ' 1:27.04 (33.65) 1:53.86 (26.82) ',\n",
       " ' 33 Sidman, John-Howard FR Columbia 1:54.10 ',\n",
       " ' 24.55 55.07 (30.52) ',\n",
       " ' 1:26.98 (31.91) 1:54.10 (27.12) ',\n",
       " ' 34 Gayton, John FR Brown 1:54.51 ',\n",
       " ' 24.30 52.73 (28.43) ',\n",
       " ' 1:27.21 (34.48) 1:54.51 (27.30) ',\n",
       " ' 35 Shinton, Scott FR Yale 1:54.54 ',\n",
       " ' 23.78 53.00 (29.22) ',\n",
       " ' 1:27.18 (34.18) 1:54.54 (27.36) ',\n",
       " ' 36 Tiano, Chris JR Columbia 1:55.02 ',\n",
       " ' 24.79 54.17 (29.38) ',\n",
       " ' 1:27.12 (32.95) 1:55.02 (27.90) ',\n",
       " ' 37 Buck, Patrick SO Pennsylvania 1:55.14 ',\n",
       " ' 24.44 53.18 (28.74) ',\n",
       " ' 1:27.71 (34.53) 1:55.14 (27.43) ',\n",
       " ' 38 Krey, Matt FR Pennsylvania 1:55.60 ',\n",
       " ' 24.15 51.75 (27.60) ',\n",
       " ' 1:27.42 (35.67) 1:55.60 (28.18) ',\n",
       " ' 39 Koppel, Chris SR Dartmouth 1:56.08 ',\n",
       " ' 24.67 54.72 (30.05) ',\n",
       " ' 1:28.90 (34.18) 1:56.08 (27.18) ',\n",
       " ' 40 Sweitzer, Matt SR Yale 1:56.77 ',\n",
       " ' 24.68 55.89 (31.21) ',\n",
       " ' 1:28.06 (32.17) 1:56.77 (28.71) ',\n",
       " ' 41 McCrae, Brett SR Brown 1:58.61 ',\n",
       " ' 25.96 56.95 (30.99) ',\n",
       " ' 1:29.58 (32.63) 1:58.61 (29.03) ',\n",
       " ' 42 Ritter, Jacob FR Dartmouth 2:04.95 ',\n",
       " ' 26.81 59.12 (32.31) ',\n",
       " ' 1:35.06 (35.94) 2:04.95 (29.89) ',\n",
       " ' Men - Team Rankings - Through ']"
      ]
     },
     "execution_count": 4,
     "metadata": {},
     "output_type": "execute_result"
    }
   ],
   "source": [
    "def split_event_by_line(string):\n",
    "    if \"Points\" in string:\n",
    "        string = string.split(\"Points\")[1]\n",
    "        string = string.replace(\"\\r\",\"\")\n",
    "        if \"Bradley\\n\" in string:\n",
    "            string = string.replace(\"Bradley\\n\", \"Bradley\")\n",
    "        list_of_strings = string.split(\"\\n\")\n",
    "        return list_of_strings\n",
    "\n",
    "fr50 = split_event_by_line(yr[1])\n",
    "fr50"
   ]
  },
  {
   "cell_type": "code",
   "execution_count": 13,
   "metadata": {
    "collapsed": false
   },
   "outputs": [
    {
     "name": "stdout",
     "output_type": "stream",
     "text": [
      " 10 Plante, Chris FR Dartmouth 238.55 260.55 17 \n",
      " 11 Levkoff, David SO Columbia 229.85 255.05 16 \n",
      " 12 Olson, Eric SO Yale 239.75 249.95 15 \n",
      " 13 DeMarle, Pat SO Cornell 228.70 244.10 14 \n",
      " 14 Feldman, Jonathan Brown 228.50 243.25 13 \n"
     ]
    },
    {
     "ename": "IndexError",
     "evalue": "list index out of range",
     "output_type": "error",
     "traceback": [
      "\u001b[0;31m---------------------------------------------------------------------------\u001b[0m",
      "\u001b[0;31mIndexError\u001b[0m                                Traceback (most recent call last)",
      "\u001b[0;32m<ipython-input-13-e426851b0465>\u001b[0m in \u001b[0;36m<module>\u001b[0;34m()\u001b[0m\n\u001b[1;32m     81\u001b[0m     \u001b[0;32mreturn\u001b[0m \u001b[0mnlist\u001b[0m\u001b[0;34m\u001b[0m\u001b[0m\n\u001b[1;32m     82\u001b[0m \u001b[0;34m\u001b[0m\u001b[0m\n\u001b[0;32m---> 83\u001b[0;31m \u001b[0mextracted_event\u001b[0m \u001b[0;34m=\u001b[0m \u001b[0mextract_all_data_from_event\u001b[0m\u001b[0;34m(\u001b[0m\u001b[0myr\u001b[0m\u001b[0;34m[\u001b[0m\u001b[0;36m3\u001b[0m\u001b[0;34m]\u001b[0m\u001b[0;34m)\u001b[0m\u001b[0;34m\u001b[0m\u001b[0m\n\u001b[0m\u001b[1;32m     84\u001b[0m \u001b[0mextracted_event\u001b[0m\u001b[0;34m\u001b[0m\u001b[0m\n",
      "\u001b[0;32m<ipython-input-13-e426851b0465>\u001b[0m in \u001b[0;36mextract_all_data_from_event\u001b[0;34m(event)\u001b[0m\n\u001b[1;32m     76\u001b[0m     \u001b[0;32mfor\u001b[0m \u001b[0mline\u001b[0m \u001b[0;32min\u001b[0m \u001b[0mlist_of_lines\u001b[0m\u001b[0;34m:\u001b[0m\u001b[0;34m\u001b[0m\u001b[0m\n\u001b[1;32m     77\u001b[0m         \u001b[0;32mif\u001b[0m \u001b[0mline\u001b[0m\u001b[0;34m:\u001b[0m\u001b[0;34m\u001b[0m\u001b[0m\n\u001b[0;32m---> 78\u001b[0;31m             \u001b[0md\u001b[0m \u001b[0;34m=\u001b[0m \u001b[0mextract_data_from_line\u001b[0m\u001b[0;34m(\u001b[0m\u001b[0mline\u001b[0m\u001b[0;34m)\u001b[0m\u001b[0;34m\u001b[0m\u001b[0m\n\u001b[0m\u001b[1;32m     79\u001b[0m             \u001b[0;32mif\u001b[0m \u001b[0md\u001b[0m\u001b[0;34m:\u001b[0m\u001b[0;34m\u001b[0m\u001b[0m\n\u001b[1;32m     80\u001b[0m                 \u001b[0mnlist\u001b[0m\u001b[0;34m.\u001b[0m\u001b[0mappend\u001b[0m\u001b[0;34m(\u001b[0m\u001b[0md\u001b[0m\u001b[0;34m)\u001b[0m\u001b[0;34m\u001b[0m\u001b[0m\n",
      "\u001b[0;32m<ipython-input-13-e426851b0465>\u001b[0m in \u001b[0;36mextract_data_from_line\u001b[0;34m(line)\u001b[0m\n\u001b[1;32m     65\u001b[0m         \u001b[0mname\u001b[0m \u001b[0;34m=\u001b[0m \u001b[0mextract_name_from_line\u001b[0m\u001b[0;34m(\u001b[0m\u001b[0mline\u001b[0m\u001b[0;34m)\u001b[0m\u001b[0;34m\u001b[0m\u001b[0m\n\u001b[1;32m     66\u001b[0m         \u001b[0myear\u001b[0m \u001b[0;34m=\u001b[0m \u001b[0mextract_year_from_line\u001b[0m\u001b[0;34m(\u001b[0m\u001b[0mline\u001b[0m\u001b[0;34m)\u001b[0m\u001b[0;34m\u001b[0m\u001b[0m\n\u001b[0;32m---> 67\u001b[0;31m         \u001b[0mschool\u001b[0m \u001b[0;34m=\u001b[0m \u001b[0mextract_school_from_line\u001b[0m\u001b[0;34m(\u001b[0m\u001b[0mline\u001b[0m\u001b[0;34m)\u001b[0m\u001b[0;34m\u001b[0m\u001b[0m\n\u001b[0m\u001b[1;32m     68\u001b[0m         \u001b[0mprelim\u001b[0m \u001b[0;34m=\u001b[0m \u001b[0mextract_times_from_line\u001b[0m\u001b[0;34m(\u001b[0m\u001b[0mline\u001b[0m\u001b[0;34m)\u001b[0m\u001b[0;34m[\u001b[0m\u001b[0;36m0\u001b[0m\u001b[0;34m]\u001b[0m\u001b[0;34m\u001b[0m\u001b[0m\n\u001b[1;32m     69\u001b[0m         \u001b[0mfinal\u001b[0m \u001b[0;34m=\u001b[0m \u001b[0mextract_times_from_line\u001b[0m\u001b[0;34m(\u001b[0m\u001b[0mline\u001b[0m\u001b[0;34m)\u001b[0m\u001b[0;34m[\u001b[0m\u001b[0;36m1\u001b[0m\u001b[0;34m]\u001b[0m\u001b[0;34m\u001b[0m\u001b[0m\n",
      "\u001b[0;32m<ipython-input-13-e426851b0465>\u001b[0m in \u001b[0;36mextract_school_from_line\u001b[0;34m(line)\u001b[0m\n\u001b[1;32m     27\u001b[0m     \u001b[0mprint\u001b[0m\u001b[0;34m(\u001b[0m\u001b[0mline\u001b[0m\u001b[0;34m)\u001b[0m\u001b[0;34m\u001b[0m\u001b[0m\n\u001b[1;32m     28\u001b[0m     \u001b[0myear\u001b[0m \u001b[0;34m=\u001b[0m \u001b[0mextract_year_from_line\u001b[0m\u001b[0;34m(\u001b[0m\u001b[0mline\u001b[0m\u001b[0;34m)\u001b[0m \u001b[0;34m+\u001b[0m \u001b[0;34m\" \"\u001b[0m\u001b[0;34m\u001b[0m\u001b[0m\n\u001b[0;32m---> 29\u001b[0;31m     \u001b[0mschool\u001b[0m \u001b[0;34m=\u001b[0m \u001b[0mline\u001b[0m\u001b[0;34m.\u001b[0m\u001b[0msplit\u001b[0m\u001b[0;34m(\u001b[0m\u001b[0myear\u001b[0m\u001b[0;34m)\u001b[0m\u001b[0;34m[\u001b[0m\u001b[0;36m1\u001b[0m\u001b[0;34m]\u001b[0m\u001b[0;34m\u001b[0m\u001b[0m\n\u001b[0m\u001b[1;32m     30\u001b[0m     \u001b[0mschool\u001b[0m \u001b[0;34m=\u001b[0m \u001b[0mschool\u001b[0m\u001b[0;34m.\u001b[0m\u001b[0msplit\u001b[0m\u001b[0;34m(\u001b[0m\u001b[0;34m\" \"\u001b[0m\u001b[0;34m)\u001b[0m\u001b[0;34m[\u001b[0m\u001b[0;36m0\u001b[0m\u001b[0;34m]\u001b[0m\u001b[0;34m\u001b[0m\u001b[0m\n\u001b[1;32m     31\u001b[0m     \u001b[0;32mreturn\u001b[0m \u001b[0mschool\u001b[0m\u001b[0;34m\u001b[0m\u001b[0m\n",
      "\u001b[0;31mIndexError\u001b[0m: list index out of range"
     ]
    }
   ],
   "source": [
    "def extract_rank_from_line(line):\n",
    "    if \",\" in line:\n",
    "        try:\n",
    "            return int(line[:4])\n",
    "        except ValueError:\n",
    "            return 0\n",
    "    else:\n",
    "        return 0\n",
    "\n",
    "def extract_name_from_line(line):\n",
    "    comma = re.search(r'\\,', line).start()\n",
    "    last_name = line[comma::-1].split(\" \")[0][::-1]\n",
    "    first_name = line[comma+2:].split(\" \")[0]\n",
    "    name = last_name + \" \" + first_name\n",
    "    return name\n",
    "\n",
    "def extract_year_from_line(line):\n",
    "    years = [\" FR \", \" SO \", \" JR \", \" SR \"]\n",
    "    for year in years:\n",
    "        if year in line:\n",
    "            return year.replace(\" \", \"\")\n",
    "        if not any(yr in line for yr in years):\n",
    "            ix = re.search(r'\\d', line[6:]).start()\n",
    "            return line[ix+6:ix+8]\n",
    "\n",
    "def extract_school_from_line(line):\n",
    "    print(line)\n",
    "    year = extract_year_from_line(line) + \" \"\n",
    "    school = line.split(year)[1]\n",
    "    school = school.split(\" \")[0]\n",
    "    return school\n",
    "\n",
    "def extract_times_from_line(line):\n",
    "    time1 = re.compile(r'\\d*\\:\\d\\d\\.\\d\\d')\n",
    "    time2 = re.compile(r'\\d\\d\\d\\.\\d\\d')\n",
    "    time3 = re.compile(r'\\d\\d\\.\\d\\d')\n",
    "    line_ix = [(m.start(0), m.end(0)) for m in re.finditer(time1, line)]\n",
    "    if len(line_ix) == 0:\n",
    "        line_ix = [(m.start(0), m.end(0)) for m in re.finditer(time2, line)]\n",
    "        if len(line_ix) == 0:\n",
    "            line_ix = [(m.start(0), m.end(0)) for m in re.finditer(time3, line)]        \n",
    "    if len(line_ix) == 2:\n",
    "        p_start = line_ix[0][0]\n",
    "        p_end = line_ix[0][1]\n",
    "        f_start = line_ix[1][0]\n",
    "        f_end = line_ix[1][1]\n",
    "        prelims = line[p_start:p_end]\n",
    "        finals = line[f_start:f_end]\n",
    "    elif len(line_ix) == 1:\n",
    "        f_start = line_ix[0][0]\n",
    "        f_end = line_ix[0][1]\n",
    "        finals = line[f_start:f_end]\n",
    "        prelims = \"N/A\"\n",
    "    return [prelims, finals]\n",
    "\n",
    "def extract_points_from_line(line):\n",
    "    try: \n",
    "        return float(line[-3:])\n",
    "    except ValueError:\n",
    "        return 0\n",
    "\n",
    "def extract_data_from_line(line):\n",
    "    rank = extract_rank_from_line(line)\n",
    "    if rank:\n",
    "        name = extract_name_from_line(line)\n",
    "        year = extract_year_from_line(line)\n",
    "        school = extract_school_from_line(line)\n",
    "        prelim = extract_times_from_line(line)[0]\n",
    "        final = extract_times_from_line(line)[1]\n",
    "        points = extract_points_from_line(line)\n",
    "        return [rank, name, year, school, prelim, final, points]\n",
    "\n",
    "def extract_all_data_from_event(event):\n",
    "    list_of_lines = split_event_by_line(event)\n",
    "    nlist = []\n",
    "    for line in list_of_lines:\n",
    "        if line:\n",
    "            d = extract_data_from_line(line)\n",
    "            if d:\n",
    "                nlist.append(d)\n",
    "    return nlist\n",
    "\n",
    "extracted_event = extract_all_data_from_event(yr[3])\n",
    "extracted_event"
   ]
  },
  {
   "cell_type": "code",
   "execution_count": 10,
   "metadata": {
    "collapsed": false
   },
   "outputs": [
    {
     "data": {
      "text/plain": [
       "(4, 50, 'Freestyle')"
      ]
     },
     "execution_count": 10,
     "metadata": {},
     "output_type": "execute_result"
    }
   ],
   "source": [
    "def get_event_name_num(event):\n",
    "    if \"Diving\" not in event:\n",
    "        try:\n",
    "            event_num = int(event[:2])\n",
    "        except ValueError:\n",
    "            event_num = \"NaN\"\n",
    "        dist = int(event.split(sex)[1].split(\" \")[0])\n",
    "        stroke = event.split(course)[1].split(\"=\")[0]\n",
    "        if (type(event_num) == int) and event_num < 25:\n",
    "            return event_num, dist, stroke\n",
    "    else:\n",
    "        try:\n",
    "            event_num = int(event[:2])\n",
    "        except ValueError:\n",
    "            event_num = \"NaN\"\n",
    "        dist = int(event.split(sex)[1].split(\" \")[0])\n",
    "        stroke = \"Diving\"\n",
    "        if (type(event_num) == int) and event_num < 25:\n",
    "            return event_num, dist, stroke\n",
    "\n",
    "get_event_name_num(yr[2])"
   ]
  },
  {
   "cell_type": "code",
   "execution_count": 11,
   "metadata": {
    "collapsed": false
   },
   "outputs": [
    {
     "name": "stdout",
     "output_type": "stream",
     "text": [
      "(2, 500, 'Freestyle')\n",
      "(3, 200, 'IM')\n",
      "(4, 50, 'Freestyle')\n",
      "(5, 1, 'Diving')\n"
     ]
    },
    {
     "ename": "IndexError",
     "evalue": "list index out of range",
     "output_type": "error",
     "traceback": [
      "\u001b[0;31m---------------------------------------------------------------------------\u001b[0m",
      "\u001b[0;31mIndexError\u001b[0m                                Traceback (most recent call last)",
      "\u001b[0;32m<ipython-input-11-f9db9f9fc239>\u001b[0m in \u001b[0;36m<module>\u001b[0;34m()\u001b[0m\n\u001b[1;32m     15\u001b[0m     \u001b[0;32mreturn\u001b[0m \u001b[0mmeet_results\u001b[0m\u001b[0;34m\u001b[0m\u001b[0m\n\u001b[1;32m     16\u001b[0m \u001b[0;34m\u001b[0m\u001b[0m\n\u001b[0;32m---> 17\u001b[0;31m \u001b[0mpandize_meet\u001b[0m\u001b[0;34m(\u001b[0m\u001b[0myr2009\u001b[0m\u001b[0;34m)\u001b[0m\u001b[0;34m\u001b[0m\u001b[0m\n\u001b[0m",
      "\u001b[0;32m<ipython-input-11-f9db9f9fc239>\u001b[0m in \u001b[0;36mpandize_meet\u001b[0;34m(year)\u001b[0m\n\u001b[1;32m      6\u001b[0m         \u001b[0mevent_name_num\u001b[0m \u001b[0;34m=\u001b[0m \u001b[0mget_event_name_num\u001b[0m\u001b[0;34m(\u001b[0m\u001b[0mevent\u001b[0m\u001b[0;34m)\u001b[0m\u001b[0;34m\u001b[0m\u001b[0m\n\u001b[1;32m      7\u001b[0m         \u001b[0mprint\u001b[0m\u001b[0;34m(\u001b[0m\u001b[0mevent_name_num\u001b[0m\u001b[0;34m)\u001b[0m\u001b[0;34m\u001b[0m\u001b[0m\n\u001b[0;32m----> 8\u001b[0;31m         \u001b[0mevent_data\u001b[0m \u001b[0;34m=\u001b[0m \u001b[0mextract_all_data_from_event\u001b[0m\u001b[0;34m(\u001b[0m\u001b[0mevent\u001b[0m\u001b[0;34m)\u001b[0m\u001b[0;34m\u001b[0m\u001b[0m\n\u001b[0m\u001b[1;32m      9\u001b[0m         \u001b[0mpandized_event\u001b[0m \u001b[0;34m=\u001b[0m \u001b[0mpd\u001b[0m\u001b[0;34m.\u001b[0m\u001b[0mDataFrame\u001b[0m\u001b[0;34m(\u001b[0m\u001b[0mevent_data\u001b[0m\u001b[0;34m)\u001b[0m\u001b[0;34m\u001b[0m\u001b[0m\n\u001b[1;32m     10\u001b[0m         \u001b[0mpandized_event\u001b[0m\u001b[0;34m.\u001b[0m\u001b[0mcolumns\u001b[0m \u001b[0;34m=\u001b[0m \u001b[0;34m[\u001b[0m\u001b[0;34m\"Rank\"\u001b[0m\u001b[0;34m,\u001b[0m \u001b[0;34m\"Name\"\u001b[0m\u001b[0;34m,\u001b[0m \u001b[0;34m\"Yr\"\u001b[0m\u001b[0;34m,\u001b[0m \u001b[0;34m\"School\"\u001b[0m\u001b[0;34m,\u001b[0m \u001b[0;34m\"Prelim\"\u001b[0m\u001b[0;34m,\u001b[0m \u001b[0;34m\"Final\"\u001b[0m\u001b[0;34m,\u001b[0m \u001b[0;34m\"Points\"\u001b[0m\u001b[0;34m]\u001b[0m\u001b[0;34m\u001b[0m\u001b[0m\n",
      "\u001b[0;32m<ipython-input-9-9f1741f7f0b6>\u001b[0m in \u001b[0;36mextract_all_data_from_event\u001b[0;34m(event)\u001b[0m\n\u001b[1;32m     75\u001b[0m     \u001b[0;32mfor\u001b[0m \u001b[0mline\u001b[0m \u001b[0;32min\u001b[0m \u001b[0mlist_of_lines\u001b[0m\u001b[0;34m:\u001b[0m\u001b[0;34m\u001b[0m\u001b[0m\n\u001b[1;32m     76\u001b[0m         \u001b[0;32mif\u001b[0m \u001b[0mline\u001b[0m\u001b[0;34m:\u001b[0m\u001b[0;34m\u001b[0m\u001b[0m\n\u001b[0;32m---> 77\u001b[0;31m             \u001b[0md\u001b[0m \u001b[0;34m=\u001b[0m \u001b[0mextract_data_from_line\u001b[0m\u001b[0;34m(\u001b[0m\u001b[0mline\u001b[0m\u001b[0;34m)\u001b[0m\u001b[0;34m\u001b[0m\u001b[0m\n\u001b[0m\u001b[1;32m     78\u001b[0m             \u001b[0;32mif\u001b[0m \u001b[0md\u001b[0m\u001b[0;34m:\u001b[0m\u001b[0;34m\u001b[0m\u001b[0m\n\u001b[1;32m     79\u001b[0m                 \u001b[0mnlist\u001b[0m\u001b[0;34m.\u001b[0m\u001b[0mappend\u001b[0m\u001b[0;34m(\u001b[0m\u001b[0md\u001b[0m\u001b[0;34m)\u001b[0m\u001b[0;34m\u001b[0m\u001b[0m\n",
      "\u001b[0;32m<ipython-input-9-9f1741f7f0b6>\u001b[0m in \u001b[0;36mextract_data_from_line\u001b[0;34m(line)\u001b[0m\n\u001b[1;32m     64\u001b[0m         \u001b[0mname\u001b[0m \u001b[0;34m=\u001b[0m \u001b[0mextract_name_from_line\u001b[0m\u001b[0;34m(\u001b[0m\u001b[0mline\u001b[0m\u001b[0;34m)\u001b[0m\u001b[0;34m\u001b[0m\u001b[0m\n\u001b[1;32m     65\u001b[0m         \u001b[0myear\u001b[0m \u001b[0;34m=\u001b[0m \u001b[0mextract_year_from_line\u001b[0m\u001b[0;34m(\u001b[0m\u001b[0mline\u001b[0m\u001b[0;34m)\u001b[0m\u001b[0;34m\u001b[0m\u001b[0m\n\u001b[0;32m---> 66\u001b[0;31m         \u001b[0mschool\u001b[0m \u001b[0;34m=\u001b[0m \u001b[0mextract_school_from_line\u001b[0m\u001b[0;34m(\u001b[0m\u001b[0mline\u001b[0m\u001b[0;34m)\u001b[0m\u001b[0;34m\u001b[0m\u001b[0m\n\u001b[0m\u001b[1;32m     67\u001b[0m         \u001b[0mprelim\u001b[0m \u001b[0;34m=\u001b[0m \u001b[0mextract_times_from_line\u001b[0m\u001b[0;34m(\u001b[0m\u001b[0mline\u001b[0m\u001b[0;34m)\u001b[0m\u001b[0;34m[\u001b[0m\u001b[0;36m0\u001b[0m\u001b[0;34m]\u001b[0m\u001b[0;34m\u001b[0m\u001b[0m\n\u001b[1;32m     68\u001b[0m         \u001b[0mfinal\u001b[0m \u001b[0;34m=\u001b[0m \u001b[0mextract_times_from_line\u001b[0m\u001b[0;34m(\u001b[0m\u001b[0mline\u001b[0m\u001b[0;34m)\u001b[0m\u001b[0;34m[\u001b[0m\u001b[0;36m1\u001b[0m\u001b[0;34m]\u001b[0m\u001b[0;34m\u001b[0m\u001b[0m\n",
      "\u001b[0;32m<ipython-input-9-9f1741f7f0b6>\u001b[0m in \u001b[0;36mextract_school_from_line\u001b[0;34m(line)\u001b[0m\n\u001b[1;32m     26\u001b[0m \u001b[0;32mdef\u001b[0m \u001b[0mextract_school_from_line\u001b[0m\u001b[0;34m(\u001b[0m\u001b[0mline\u001b[0m\u001b[0;34m)\u001b[0m\u001b[0;34m:\u001b[0m\u001b[0;34m\u001b[0m\u001b[0m\n\u001b[1;32m     27\u001b[0m     \u001b[0myear\u001b[0m \u001b[0;34m=\u001b[0m \u001b[0mextract_year_from_line\u001b[0m\u001b[0;34m(\u001b[0m\u001b[0mline\u001b[0m\u001b[0;34m)\u001b[0m \u001b[0;34m+\u001b[0m \u001b[0;34m\" \"\u001b[0m\u001b[0;34m\u001b[0m\u001b[0m\n\u001b[0;32m---> 28\u001b[0;31m     \u001b[0mschool\u001b[0m \u001b[0;34m=\u001b[0m \u001b[0mline\u001b[0m\u001b[0;34m.\u001b[0m\u001b[0msplit\u001b[0m\u001b[0;34m(\u001b[0m\u001b[0myear\u001b[0m\u001b[0;34m)\u001b[0m\u001b[0;34m[\u001b[0m\u001b[0;36m1\u001b[0m\u001b[0;34m]\u001b[0m\u001b[0;34m\u001b[0m\u001b[0m\n\u001b[0m\u001b[1;32m     29\u001b[0m     \u001b[0mschool\u001b[0m \u001b[0;34m=\u001b[0m \u001b[0mschool\u001b[0m\u001b[0;34m.\u001b[0m\u001b[0msplit\u001b[0m\u001b[0;34m(\u001b[0m\u001b[0;34m\" \"\u001b[0m\u001b[0;34m)\u001b[0m\u001b[0;34m[\u001b[0m\u001b[0;36m0\u001b[0m\u001b[0;34m]\u001b[0m\u001b[0;34m\u001b[0m\u001b[0m\n\u001b[1;32m     30\u001b[0m     \u001b[0;32mreturn\u001b[0m \u001b[0mschool\u001b[0m\u001b[0;34m\u001b[0m\u001b[0m\n",
      "\u001b[0;31mIndexError\u001b[0m: list index out of range"
     ]
    }
   ],
   "source": [
    "def pandize_meet(year):\n",
    "    meet_results = pd.DataFrame(columns = [\"Ev#\", \"Distance\", \"Stroke\", \"Rank\", \"Name\", \"Yr\", \"School\", \"Prelim\", \"Final\", \"Points\"])\n",
    "\n",
    "    events_list = separate_events(year)    \n",
    "    for event in events_list:\n",
    "        event_name_num = get_event_name_num(event)\n",
    "        print(event_name_num)\n",
    "        event_data = extract_all_data_from_event(event)\n",
    "        pandized_event = pd.DataFrame(event_data)\n",
    "        pandized_event.columns = [\"Rank\", \"Name\", \"Yr\", \"School\", \"Prelim\", \"Final\", \"Points\"]\n",
    "        pandized_event[\"Ev#\"] = event_name_num[0]\n",
    "        pandized_event[\"Distance\"] = event_name_num[1]\n",
    "        pandized_event[\"Stroke\"] = event_name_num[2]\n",
    "        meet_results = meet_results.append(pandized_event)\n",
    "    return meet_results\n",
    "\n",
    "pandize_meet(yr2009)"
   ]
  },
  {
   "cell_type": "code",
   "execution_count": null,
   "metadata": {
    "collapsed": false
   },
   "outputs": [],
   "source": [
    "get_event_name_num(yr[3])"
   ]
  },
  {
   "cell_type": "code",
   "execution_count": null,
   "metadata": {
    "collapsed": true
   },
   "outputs": [],
   "source": []
  },
  {
   "cell_type": "code",
   "execution_count": null,
   "metadata": {
    "collapsed": true
   },
   "outputs": [],
   "source": []
  }
 ],
 "metadata": {
  "kernelspec": {
   "display_name": "Python 3",
   "language": "python",
   "name": "python3"
  },
  "language_info": {
   "codemirror_mode": {
    "name": "ipython",
    "version": 3
   },
   "file_extension": ".py",
   "mimetype": "text/x-python",
   "name": "python",
   "nbconvert_exporter": "python",
   "pygments_lexer": "ipython3",
   "version": "3.5.0"
  }
 },
 "nbformat": 4,
 "nbformat_minor": 0
}
